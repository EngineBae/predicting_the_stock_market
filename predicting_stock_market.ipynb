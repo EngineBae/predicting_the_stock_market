{
 "cells": [
  {
   "cell_type": "code",
   "execution_count": 1,
   "metadata": {
    "collapsed": true
   },
   "outputs": [],
   "source": [
    "import pandas as pd\n",
    "import numpy as np\n",
    "from datetime import datetime\n",
    "\n",
    "index_prices = pd.read_csv('sphist.csv')\n",
    "\n",
    "#converting Date column into datetime data\n",
    "index_prices['Date'] = pd.to_datetime(index_prices['Date'])\n",
    "#sorting dataframe by Date column\n",
    "index_prices = index_prices.sort_values(by=['Date']).reset_index(drop=True)"
   ]
  },
  {
   "cell_type": "code",
   "execution_count": 2,
   "metadata": {},
   "outputs": [
    {
     "data": {
      "text/plain": [
       "(16590, 7)"
      ]
     },
     "execution_count": 2,
     "metadata": {},
     "output_type": "execute_result"
    }
   ],
   "source": [
    "index_prices.shape"
   ]
  },
  {
   "cell_type": "markdown",
   "metadata": {},
   "source": [
    "The dataset is time sensitive, meaning that the observations are not independent. The upside is that we can generate indiators to make the model more accurate, incroporating information from multiple prior rows into one. We will make four categories of indicators and use these as our features.\n",
    "\n",
    "# Average Indicators"
   ]
  },
  {
   "cell_type": "code",
   "execution_count": 3,
   "metadata": {},
   "outputs": [],
   "source": [
    "#average price from the past 5 days\n",
    "index_prices['day_5'] = index_prices['Close'].rolling(window=5).mean().shift(1)\n",
    "#average price form the past 30 days\n",
    "index_prices['day_30'] = index_prices['Close'].rolling(window=30).mean().shift(1)\n",
    "#average price for the past 365 days\n",
    "index_prices['day_365'] = index_prices['Close'].rolling(window=365).mean().shift(1)"
   ]
  },
  {
   "cell_type": "markdown",
   "metadata": {},
   "source": [
    "# Average Ratio Indicators"
   ]
  },
  {
   "cell_type": "code",
   "execution_count": 4,
   "metadata": {
    "collapsed": true
   },
   "outputs": [],
   "source": [
    "#the ratio between the average price for the past 5 days, and the average price for the past 365 days\n",
    "index_prices['ratio_5_to_365'] = index_prices['day_5'] / index_prices['day_365']\n",
    "#between 30 days and 365 days\n",
    "index_prices['ratio_30_to_365'] = index_prices['day_30'] / index_prices['day_365']\n",
    "#between 5 days and 30 days\n",
    "index_prices['ratio_5_to_30'] = index_prices['day_5'] / index_prices['day_30']"
   ]
  },
  {
   "cell_type": "markdown",
   "metadata": {},
   "source": [
    "# Standard Deviation Indicators"
   ]
  },
  {
   "cell_type": "code",
   "execution_count": 5,
   "metadata": {
    "collapsed": true
   },
   "outputs": [],
   "source": [
    "#standard deviation of price from the past 5 days\n",
    "index_prices['day_5_std'] = index_prices['Close'].rolling(window=5).std().shift(1)\n",
    "#standard deviation of price form the past 30 days\n",
    "index_prices['day_30_std'] = index_prices['Close'].rolling(window=30).std().shift(1)\n",
    "#standard deviation of price for the past 365 days\n",
    "index_prices['day_365_std'] = index_prices['Close'].rolling(window=365).std().shift(1)"
   ]
  },
  {
   "cell_type": "markdown",
   "metadata": {},
   "source": [
    "# Standard Deviation Ratio Indicators"
   ]
  },
  {
   "cell_type": "code",
   "execution_count": 6,
   "metadata": {},
   "outputs": [],
   "source": [
    "#the ratio between the standard deviation of price for the past 5 days, and the standard deviation price for the past 365 days\n",
    "index_prices['ratio_5_to_365_std'] = index_prices['day_5_std'] / index_prices['day_365_std']\n",
    "#between 30 days and 365 days\n",
    "index_prices['ratio_30_to_365_std'] = index_prices['day_30_std'] / index_prices['day_365_std']\n",
    "#between 5 days and 30 days\n",
    "index_prices['ratio_5_to_30_std'] = index_prices['day_5_std'] / index_prices['day_30_std']"
   ]
  },
  {
   "cell_type": "markdown",
   "metadata": {},
   "source": [
    "Since some of the indicators are present after a certain number of days have passed from the beginning of the dataset, we have quite a few of null values. Let's drop these."
   ]
  },
  {
   "cell_type": "code",
   "execution_count": 7,
   "metadata": {},
   "outputs": [],
   "source": [
    "index_prices = index_prices.dropna().reset_index(drop=True)"
   ]
  },
  {
   "cell_type": "code",
   "execution_count": 8,
   "metadata": {},
   "outputs": [
    {
     "data": {
      "text/html": [
       "<div>\n",
       "<style>\n",
       "    .dataframe thead tr:only-child th {\n",
       "        text-align: right;\n",
       "    }\n",
       "\n",
       "    .dataframe thead th {\n",
       "        text-align: left;\n",
       "    }\n",
       "\n",
       "    .dataframe tbody tr th {\n",
       "        vertical-align: top;\n",
       "    }\n",
       "</style>\n",
       "<table border=\"1\" class=\"dataframe\">\n",
       "  <thead>\n",
       "    <tr style=\"text-align: right;\">\n",
       "      <th></th>\n",
       "      <th>Date</th>\n",
       "      <th>Open</th>\n",
       "      <th>High</th>\n",
       "      <th>Low</th>\n",
       "      <th>Close</th>\n",
       "      <th>Volume</th>\n",
       "      <th>Adj Close</th>\n",
       "      <th>day_5</th>\n",
       "      <th>day_30</th>\n",
       "      <th>day_365</th>\n",
       "      <th>ratio_5_to_365</th>\n",
       "      <th>ratio_30_to_365</th>\n",
       "      <th>ratio_5_to_30</th>\n",
       "      <th>day_5_std</th>\n",
       "      <th>day_30_std</th>\n",
       "      <th>day_365_std</th>\n",
       "      <th>ratio_5_to_365_std</th>\n",
       "      <th>ratio_30_to_365_std</th>\n",
       "      <th>ratio_5_to_30_std</th>\n",
       "    </tr>\n",
       "  </thead>\n",
       "  <tbody>\n",
       "    <tr>\n",
       "      <th>0</th>\n",
       "      <td>1951-06-19</td>\n",
       "      <td>22.020000</td>\n",
       "      <td>22.020000</td>\n",
       "      <td>22.020000</td>\n",
       "      <td>22.020000</td>\n",
       "      <td>1100000.0</td>\n",
       "      <td>22.020000</td>\n",
       "      <td>21.800</td>\n",
       "      <td>21.703333</td>\n",
       "      <td>19.447726</td>\n",
       "      <td>1.120954</td>\n",
       "      <td>1.115983</td>\n",
       "      <td>1.004454</td>\n",
       "      <td>0.256223</td>\n",
       "      <td>0.473595</td>\n",
       "      <td>1.790253</td>\n",
       "      <td>0.143121</td>\n",
       "      <td>0.264541</td>\n",
       "      <td>0.541017</td>\n",
       "    </tr>\n",
       "    <tr>\n",
       "      <th>1</th>\n",
       "      <td>1951-06-20</td>\n",
       "      <td>21.910000</td>\n",
       "      <td>21.910000</td>\n",
       "      <td>21.910000</td>\n",
       "      <td>21.910000</td>\n",
       "      <td>1120000.0</td>\n",
       "      <td>21.910000</td>\n",
       "      <td>21.900</td>\n",
       "      <td>21.683000</td>\n",
       "      <td>19.462411</td>\n",
       "      <td>1.125246</td>\n",
       "      <td>1.114096</td>\n",
       "      <td>1.010008</td>\n",
       "      <td>0.213659</td>\n",
       "      <td>0.444648</td>\n",
       "      <td>1.789307</td>\n",
       "      <td>0.119409</td>\n",
       "      <td>0.248503</td>\n",
       "      <td>0.480513</td>\n",
       "    </tr>\n",
       "    <tr>\n",
       "      <th>2</th>\n",
       "      <td>1951-06-21</td>\n",
       "      <td>21.780001</td>\n",
       "      <td>21.780001</td>\n",
       "      <td>21.780001</td>\n",
       "      <td>21.780001</td>\n",
       "      <td>1100000.0</td>\n",
       "      <td>21.780001</td>\n",
       "      <td>21.972</td>\n",
       "      <td>21.659667</td>\n",
       "      <td>19.476274</td>\n",
       "      <td>1.128142</td>\n",
       "      <td>1.112105</td>\n",
       "      <td>1.014420</td>\n",
       "      <td>0.092574</td>\n",
       "      <td>0.411452</td>\n",
       "      <td>1.788613</td>\n",
       "      <td>0.051758</td>\n",
       "      <td>0.230040</td>\n",
       "      <td>0.224994</td>\n",
       "    </tr>\n",
       "    <tr>\n",
       "      <th>3</th>\n",
       "      <td>1951-06-22</td>\n",
       "      <td>21.549999</td>\n",
       "      <td>21.549999</td>\n",
       "      <td>21.549999</td>\n",
       "      <td>21.549999</td>\n",
       "      <td>1340000.0</td>\n",
       "      <td>21.549999</td>\n",
       "      <td>21.960</td>\n",
       "      <td>21.631000</td>\n",
       "      <td>19.489562</td>\n",
       "      <td>1.126757</td>\n",
       "      <td>1.109876</td>\n",
       "      <td>1.015210</td>\n",
       "      <td>0.115108</td>\n",
       "      <td>0.368514</td>\n",
       "      <td>1.787659</td>\n",
       "      <td>0.064390</td>\n",
       "      <td>0.206143</td>\n",
       "      <td>0.312358</td>\n",
       "    </tr>\n",
       "    <tr>\n",
       "      <th>4</th>\n",
       "      <td>1951-06-25</td>\n",
       "      <td>21.290001</td>\n",
       "      <td>21.290001</td>\n",
       "      <td>21.290001</td>\n",
       "      <td>21.290001</td>\n",
       "      <td>2440000.0</td>\n",
       "      <td>21.290001</td>\n",
       "      <td>21.862</td>\n",
       "      <td>21.599000</td>\n",
       "      <td>19.502082</td>\n",
       "      <td>1.121008</td>\n",
       "      <td>1.107523</td>\n",
       "      <td>1.012176</td>\n",
       "      <td>0.204132</td>\n",
       "      <td>0.329130</td>\n",
       "      <td>1.786038</td>\n",
       "      <td>0.114293</td>\n",
       "      <td>0.184279</td>\n",
       "      <td>0.620218</td>\n",
       "    </tr>\n",
       "  </tbody>\n",
       "</table>\n",
       "</div>"
      ],
      "text/plain": [
       "        Date       Open       High        Low      Close     Volume  \\\n",
       "0 1951-06-19  22.020000  22.020000  22.020000  22.020000  1100000.0   \n",
       "1 1951-06-20  21.910000  21.910000  21.910000  21.910000  1120000.0   \n",
       "2 1951-06-21  21.780001  21.780001  21.780001  21.780001  1100000.0   \n",
       "3 1951-06-22  21.549999  21.549999  21.549999  21.549999  1340000.0   \n",
       "4 1951-06-25  21.290001  21.290001  21.290001  21.290001  2440000.0   \n",
       "\n",
       "   Adj Close   day_5     day_30    day_365  ratio_5_to_365  ratio_30_to_365  \\\n",
       "0  22.020000  21.800  21.703333  19.447726        1.120954         1.115983   \n",
       "1  21.910000  21.900  21.683000  19.462411        1.125246         1.114096   \n",
       "2  21.780001  21.972  21.659667  19.476274        1.128142         1.112105   \n",
       "3  21.549999  21.960  21.631000  19.489562        1.126757         1.109876   \n",
       "4  21.290001  21.862  21.599000  19.502082        1.121008         1.107523   \n",
       "\n",
       "   ratio_5_to_30  day_5_std  day_30_std  day_365_std  ratio_5_to_365_std  \\\n",
       "0       1.004454   0.256223    0.473595     1.790253            0.143121   \n",
       "1       1.010008   0.213659    0.444648     1.789307            0.119409   \n",
       "2       1.014420   0.092574    0.411452     1.788613            0.051758   \n",
       "3       1.015210   0.115108    0.368514     1.787659            0.064390   \n",
       "4       1.012176   0.204132    0.329130     1.786038            0.114293   \n",
       "\n",
       "   ratio_30_to_365_std  ratio_5_to_30_std  \n",
       "0             0.264541           0.541017  \n",
       "1             0.248503           0.480513  \n",
       "2             0.230040           0.224994  \n",
       "3             0.206143           0.312358  \n",
       "4             0.184279           0.620218  "
      ]
     },
     "execution_count": 8,
     "metadata": {},
     "output_type": "execute_result"
    }
   ],
   "source": [
    "index_prices.head()"
   ]
  },
  {
   "cell_type": "markdown",
   "metadata": {},
   "source": [
    "Nice! We're ready to create our model, fit it, make predictions and test our model. To mitigate multicollinearity, we'll use Lasso regression. For bootstrapping, we'll use the `TimeSeriesSplit` class and make iterations that way.\n",
    "\n",
    "# Lasso Regression and Bootstrapping"
   ]
  },
  {
   "cell_type": "code",
   "execution_count": 9,
   "metadata": {},
   "outputs": [
    {
     "name": "stdout",
     "output_type": "stream",
     "text": [
      "From 1951-06-19 to 1963-03-13: 2.653\n",
      "From 1955-04-04 to 1969-02-28: 4.185\n",
      "From 1961-02-09 to 1975-01-03: 1.5\n",
      "From 1966-12-20 to 1980-11-03: 1.227\n",
      "From 1972-12-04 to 1986-09-05: 4.848\n",
      "From 1978-10-09 to 1992-07-07: 3.689\n",
      "From 1984-08-08 to 1998-05-07: 5.726\n",
      "From 1990-06-11 to 2004-03-19: 17.42\n",
      "From 1996-04-10 to 2010-01-28: 13.934\n",
      "From 2002-02-20 to 2015-12-07: 16.393\n"
     ]
    }
   ],
   "source": [
    "from sklearn.linear_model import Lasso\n",
    "from sklearn.model_selection import TimeSeriesSplit\n",
    "from sklearn.metrics import mean_absolute_error\n",
    "\n",
    "features = ['day_5', 'day_30', 'day_365','ratio_5_to_365',\n",
    "            'ratio_30_to_365', 'ratio_5_to_30',\n",
    "            'day_5_std', 'day_30_std', 'day_365_std',\n",
    "            'ratio_5_to_365_std', 'ratio_30_to_365_std',\n",
    "            'ratio_5_to_30_std']\n",
    "\n",
    "ts = TimeSeriesSplit(n_splits=10, max_train_size=2000) #splitting 10 times and setting max size at 3000\n",
    "X = index_prices[features]\n",
    "y = index_prices['Close']\n",
    "maes = []\n",
    "\n",
    "for train_index, test_index in ts.split(X):\n",
    "    X_train, X_test = X.iloc[train_index], X.iloc[test_index]\n",
    "    y_train, y_test = y.iloc[train_index], y.iloc[test_index]\n",
    "    model = Lasso(alpha=10)\n",
    "    model.fit(X_train, y_train)\n",
    "    predictions = model.predict(X_test)\n",
    "    mae = mean_absolute_error(y_test, predictions)\n",
    "    start_date = str(index_prices.iloc[train_index[0]]['Date']).replace(' 00:00:00', '')\n",
    "    end_date = str(index_prices.iloc[test_index[-1]]['Date']).replace(' 00:00:00', '')\n",
    "    maes.append(mae)\n",
    "    print('From ' + start_date + ' to ' + end_date + \": \" + str(np.round(mae,3)))"
   ]
  },
  {
   "cell_type": "code",
   "execution_count": 10,
   "metadata": {},
   "outputs": [
    {
     "data": {
      "text/plain": [
       "7.1574155815720859"
      ]
     },
     "execution_count": 10,
     "metadata": {},
     "output_type": "execute_result"
    }
   ],
   "source": [
    "np.mean(maes)"
   ]
  },
  {
   "cell_type": "code",
   "execution_count": 11,
   "metadata": {},
   "outputs": [
    {
     "data": {
      "text/plain": [
       "[Text(0.5,0,'Year'), Text(0.5,1,'S&P 500 Close Price')]"
      ]
     },
     "execution_count": 11,
     "metadata": {},
     "output_type": "execute_result"
    },
    {
     "data": {
      "image/png": "[encoded data removed]",
      "text/plain": [
       "<matplotlib.figure.Figure at 0x235f1bc3898>"
      ]
     },
     "metadata": {},
     "output_type": "display_data"
    }
   ],
   "source": [
    "%matplotlib inline\n",
    "import matplotlib.pyplot as plt\n",
    "import seaborn as sns\n",
    "\n",
    "fig, ax = plt.subplots(figsize=(10,7))\n",
    "ax.plot(index_prices['Date'], index_prices['Close'])\n",
    "ax.set(title='S&P 500 Close Price', xlabel='Year')"
   ]
  },
  {
   "cell_type": "markdown",
   "metadata": {},
   "source": [
    "The mean absolute error (MAE) is roughly 7.2. We can see that MAE increases when we start looking at the metrics from the last three decades. As we can see from the graph above, this may be due to the economy's boom in the last couple of decades."
   ]
  }
 ],
 "metadata": {
  "kernelspec": {
   "display_name": "Python 3",
   "language": "python",
   "name": "python3"
  },
  "language_info": {
   "codemirror_mode": {
    "name": "ipython",
    "version": 3
   },
   "file_extension": ".py",
   "mimetype": "text/x-python",
   "name": "python",
   "nbconvert_exporter": "python",
   "pygments_lexer": "ipython3",
   "version": "3.6.3"
  }
 },
 "nbformat": 4,
 "nbformat_minor": 2
}
